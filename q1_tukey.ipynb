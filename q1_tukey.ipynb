{
 "cells": [
  {
   "cell_type": "code",
   "execution_count": 5,
   "metadata": {},
   "outputs": [
    {
     "name": "stdout",
     "output_type": "stream",
     "text": [
      "[1, 2, 3, 4, 5, 6, 7, 8]\n",
      "[1, 2, 3, 4]\n",
      "2.5\n"
     ]
    }
   ],
   "source": [
    "import math\n",
    "x=[1,2,3,6,5,4,7,8]\n",
    "x.sort()\n",
    "print(x)\n",
    "if (len(x) % 2 != 0):\n",
    "    median = x[math.floor(len(x) / 2)]\n",
    "    q1=x[:median]\n",
    "    print(median)\n",
    "    print(q1)\n",
    "else:\n",
    "    mid1 = x[(int(len(x) / 2)) - 1]\n",
    "    mid2 = x[int(len(x) / 2)]\n",
    "    median = math.floor((mid1 + mid2) / 2)\n",
    "    q1=x[:median]\n",
    "    print(q1)\n",
    "    mid3 = q1[(int(len(q1) / 2)) - 1]\n",
    "    mid4 = q1[int(len(q1) / 2)]\n",
    "    quartil1=(mid3 + mid4) / 2\n",
    "    print(quartil1)"
   ]
  },
  {
   "cell_type": "code",
   "execution_count": null,
   "metadata": {},
   "outputs": [],
   "source": []
  }
 ],
 "metadata": {
  "kernelspec": {
   "display_name": "Python 3",
   "language": "python",
   "name": "python3"
  },
  "language_info": {
   "codemirror_mode": {
    "name": "ipython",
    "version": 3
   },
   "file_extension": ".py",
   "mimetype": "text/x-python",
   "name": "python",
   "nbconvert_exporter": "python",
   "pygments_lexer": "ipython3",
   "version": "3.7.1"
  }
 },
 "nbformat": 4,
 "nbformat_minor": 2
}
